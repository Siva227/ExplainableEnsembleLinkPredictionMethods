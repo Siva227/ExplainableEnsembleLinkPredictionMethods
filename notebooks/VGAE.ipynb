{
 "cells": [
  {
   "cell_type": "code",
   "execution_count": 9,
   "metadata": {},
   "outputs": [
    {
     "name": "stdout",
     "output_type": "stream",
     "text": [
      "2.0.1\n"
     ]
    }
   ],
   "source": [
    "# Module imports\n",
    "import os\n",
    "import torch\n",
    "os.environ['TORCH'] = torch.__version__\n",
    "print(torch.__version__)\n",
    "\n",
    "import torch.nn as nn\n",
    "import torch.nn.functional as F\n",
    "import numpy as np\n",
    "import pickle as pkl\n",
    "import networkx as nx\n",
    "import scipy.sparse as sp\n",
    "\n",
    "import utils.args # Import arguments from args.py"
   ]
  },
  {
   "cell_type": "code",
   "execution_count": 3,
   "metadata": {},
   "outputs": [],
   "source": [
    "# Defining global helper functions\n",
    "def dot_product_decode(Z):\n",
    "    A_pred = torch.sigmoid(torch.matmul(Z, Z.t()))\n",
    "    return A_pred\n",
    "\n",
    "def glorot_init(input_dim, output_dim):\n",
    "    init_range = np.sqrt(6.0 / (input_dim + output_dim))\n",
    "    initial = torch.rand(input_dim, output_dim) * 2 * init_range - init_range\n",
    "    return nn.Parameter(initial)\n",
    "\n",
    "# Defining the model\n",
    "class VGAE(nn.Module):\n",
    "    # Defining the constructor\n",
    "    def __init__(self, adj):\n",
    "        super(VGAE, self).__init__()\n",
    "        self.base_gcn = GraphConvSparse(args.input_dim, args.hidden1_dim, adj)\n",
    "        self.gcn_mean = GraphConvSparse(args.hidden1_dim, args.hidden2_dim, adj, activation=lambda x: x)\n",
    "        self.gcn_logstddev = GraphConvSparse(args.hidden1_dim, args.hidden2_dim, adj, activation=lambda x: x)\n",
    "\n",
    "    # Defining the encoder\n",
    "    def encode(self, X):\n",
    "        hidden = self.base_gcn(X)\n",
    "        self.mean = self.gcn_mean(hidden)\n",
    "        self.logstd = self.gcn_logstddev(hidden)\n",
    "        gaussian_noise = torch.randn(X.size(0), args.hidden2_dim)  # Gaussian noise\n",
    "        sampled_z = gaussian_noise * torch.exp(self.logstd) + self.mean  # Reparameterization trick\n",
    "        return sampled_z\n",
    "    \n",
    "    # Defining the forward layer\n",
    "    def forward(self, X):\n",
    "        z = self.encode(X)\n",
    "        return z\n",
    "    \n",
    "class GraphConvSparse(nn.Module):\n",
    "    def __init__(self, input_dim, output_dim, adj, activation=F.relu, **kwargs):\n",
    "        super(GraphConvSparse, self).__init__(**kwargs)\n",
    "        self.weight = glorot_init(input_dim, output_dim)  # Weight initialization\n",
    "        self.adj = adj  # Adjacency matrix\n",
    "        self.activation = activation  # Activation function\n",
    "    \n",
    "    def forward(self, inputs):\n",
    "        x = inputs\n",
    "        x = torch.mm(x, self.weight)  # Matrix multiplication\n",
    "        x = torch.mm(self.adj, x)  # Convolution operation\n",
    "        outputs = self.activation(x)  # Activation\n",
    "        return outputs\n",
    "    \n",
    "class GAE(nn.Module):\n",
    "    def __init__(self, adj):\n",
    "        super(GAE, self).__init__()\n",
    "        self.base_gcn = GraphConvSparse(args.input_dim, args.hidden1_dim, adj)\n",
    "        self.gcn_mean = GraphConvSparse(args.hidden1_dim, args.hidden2_dim, adj, activation=lambda x: x)\n",
    "\n",
    "    def encode(self, X):\n",
    "        hidden = self.base_gcn(X)\n",
    "        z = self.mean = self.gcn.mean(hidden)\n",
    "        return z\n",
    "    \n",
    "    def forward(self, X):\n",
    "        z = self.encode(X)\n",
    "        A_pred = dot_product_decode(z)\n",
    "        return A_pred"
   ]
  },
  {
   "cell_type": "code",
   "execution_count": 5,
   "metadata": {},
   "outputs": [
    {
     "ename": "ModuleNotFoundError",
     "evalue": "No module named 'args'",
     "output_type": "error",
     "traceback": [
      "\u001b[0;31m---------------------------------------------------------------------------\u001b[0m",
      "\u001b[0;31mModuleNotFoundError\u001b[0m                       Traceback (most recent call last)",
      "Cell \u001b[0;32mIn[5], line 1\u001b[0m\n\u001b[0;32m----> 1\u001b[0m \u001b[39mimport\u001b[39;00m \u001b[39margs\u001b[39;00m\n",
      "\u001b[0;31mModuleNotFoundError\u001b[0m: No module named 'args'"
     ]
    }
   ],
   "source": [
    "# Defining the data loader\n",
    "def parse_file_index(file_name):\n",
    "    "
   ]
  },
  {
   "cell_type": "code",
   "execution_count": 8,
   "metadata": {},
   "outputs": [],
   "source": [
    "def generate_embeddings(model, graph, features):\n",
    "    model.eval()  # Set the model to evaluation mode\n",
    "    with torch.no_grad():  # No need to track gradients\n",
    "        z, _, _ = model(graph, features)\n",
    "    return z"
   ]
  },
  {
   "cell_type": "code",
   "execution_count": null,
   "metadata": {},
   "outputs": [],
   "source": []
  }
 ],
 "metadata": {
  "kernelspec": {
   "display_name": "torch_gpu_arm64",
   "language": "python",
   "name": "python3"
  },
  "language_info": {
   "codemirror_mode": {
    "name": "ipython",
    "version": 3
   },
   "file_extension": ".py",
   "mimetype": "text/x-python",
   "name": "python",
   "nbconvert_exporter": "python",
   "pygments_lexer": "ipython3",
   "version": "3.9.16"
  },
  "orig_nbformat": 4
 },
 "nbformat": 4,
 "nbformat_minor": 2
}
