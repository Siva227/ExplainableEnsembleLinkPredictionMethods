{
 "cells": [
  {
   "cell_type": "code",
   "execution_count": 1,
   "metadata": {},
   "outputs": [
    {
     "name": "stderr",
     "output_type": "stream",
     "text": [
      "/Users/pritishmishra/opt/anaconda3/envs/torch_gpu_arm64/lib/python3.9/site-packages/tqdm/auto.py:21: TqdmWarning: IProgress not found. Please update jupyter and ipywidgets. See https://ipywidgets.readthedocs.io/en/stable/user_install.html\n",
      "  from .autonotebook import tqdm as notebook_tqdm\n"
     ]
    }
   ],
   "source": [
    "import numpy as np\n",
    "import pandas as pd\n",
    "import networkx as nx\n",
    "import matplotlib.pyplot as plt\n",
    "import torch\n",
    "from dgl.nn import DeepWalk\n",
    "from dgl.data import CoraGraphDataset, CiteseerGraphDataset, PubmedGraphDataset\n",
    "from torch.optim import Adam\n",
    "from torch.utils.data import DataLoader\n",
    "from sklearn.metrics import f1_score\n",
    "from sklearn.linear_model import LogisticRegression\n",
    "#import deepwalk as dw"
   ]
  },
  {
   "cell_type": "code",
   "execution_count": 2,
   "metadata": {},
   "outputs": [],
   "source": [
    "grqc_data = pd.read_csv('/Users/pritishmishra/Documents/Computer Science/Artificial Intelligence/Graph Machine Learning/Research_Project/ExplainableEnsembleLinkPredictionMethods/data/raw/ca-GrQc.txt', sep = '\\t', skiprows=3)"
   ]
  },
  {
   "cell_type": "code",
   "execution_count": null,
   "metadata": {},
   "outputs": [],
   "source": [
    "import networkx as nx\n",
    "from gensim.models import Word2Vec\n",
    "from gensim.models import KeyedVectors\n",
    "from gensim.models.callbacks import CallbackAny2Vec\n",
    "from node2vec import Node2Vec\n",
    "\n",
    "# Convert the adjacency list to a NetworkX graph\n",
    "G = nx.Graph(adjacency_list)\n",
    "\n",
    "# Set the node2vec hyperparameters\n",
    "p = 1  # Return hyperparameter\n",
    "q = 1  # In-out hyperparameter\n",
    "dimensions = 128  # Dimensionality of node embeddings\n",
    "walk_length = 40  # Length of each random walk\n",
    "num_walks = 10  # Number of random walks from each node\n",
    "workers = 4  # Number of parallel workers\n",
    "\n",
    "# Generate the node2vec random walks\n",
    "node2vec = Node2Vec(G, dimensions=dimensions, walk_length=walk_length, num_walks=num_walks, p=p, q=q, workers=workers)\n",
    "walks = node2vec.walks\n",
    "\n",
    "# Train a Word2Vec model on the random walks to generate node embeddings\n",
    "model = Word2Vec(walks, vector_size=dimensions, window=5, min_count=0, sg=1, hs=1, workers=workers, seed=42)\n",
    "\n",
    "# Get the node embeddings\n",
    "node_embeddings = {str(node): model.wv[str(node)] for node in G.nodes}\n",
    "\n",
    "# Save the node embeddings to a file\n",
    "model.wv.save_word2vec_format('node_embeddings.txt')\n"
   ]
  }
 ],
 "metadata": {
  "kernelspec": {
   "display_name": "torch_gpu_arm64",
   "language": "python",
   "name": "python3"
  },
  "language_info": {
   "codemirror_mode": {
    "name": "ipython",
    "version": 3
   },
   "file_extension": ".py",
   "mimetype": "text/x-python",
   "name": "python",
   "nbconvert_exporter": "python",
   "pygments_lexer": "ipython3",
   "version": "3.9.15"
  },
  "orig_nbformat": 4
 },
 "nbformat": 4,
 "nbformat_minor": 2
}
